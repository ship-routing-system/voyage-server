{
 "cells": [
  {
   "cell_type": "code",
   "execution_count": 5,
   "metadata": {},
   "outputs": [],
   "source": [
    "import os, glob\n",
    "from tqdm import tqdm\n",
    "from google.cloud import storage\n",
    "import pandas as pd\n",
    "\n",
    "os.environ['GOOGLE_APPLICATION_CREDENTIALS'] = (\n",
    "    \"../credentials/vlcc-google-acb.json\"\n",
    ")"
   ]
  },
  {
   "cell_type": "code",
   "execution_count": 11,
   "metadata": {},
   "outputs": [
    {
     "name": "stdout",
     "output_type": "stream",
     "text": [
      "Created table vlcc-304007.vlcc_data.voyage200\n"
     ]
    }
   ],
   "source": [
    "from google.cloud import bigquery\n",
    "\n",
    "# Construct a BigQuery client object.\n",
    "client = bigquery.Client()\n",
    "\n",
    "# TODO(developer): Set table_id to the ID of the table to create.\n",
    "# table_id = \"your-project.your_dataset.your_table_name\"\n",
    "\n",
    "schema = [\n",
    "    bigquery.SchemaField(\"imo_no\", \"INTEGER\"),\n",
    "    bigquery.SchemaField(\"lat\", \"FLOAT\"),\n",
    "    bigquery.SchemaField(\"long\", \"FLOAT\"),\n",
    "    bigquery.SchemaField(\"reg_dt\", \"DATETIME\"),\n",
    "    bigquery.SchemaField(\"imo_partition_id\", \"INTEGER\")\n",
    "]\n",
    "\n",
    "table = bigquery.Table('vlcc-304007.vlcc_data.voyage200', schema=schema)\n",
    "table.range_partitioning = bigquery.RangePartitioning(\n",
    "    # To use integer range partitioning, select a top-level REQUIRED /\n",
    "    # NULLABLE column with INTEGER / INT64 data type.\n",
    "    field=\"imo_no\",\n",
    "    range_=bigquery.PartitionRange(start=0, end=10000, interval=1),\n",
    ")\n",
    "table = client.create_table(table)  # Make an API request.\n",
    "print(\n",
    "    \"Created table {}.{}.{}\".format(table.project, table.dataset_id, table.table_id)\n",
    ")"
   ]
  }
 ],
 "metadata": {
  "kernelspec": {
   "display_name": "Python 3",
   "language": "python",
   "name": "python3"
  },
  "language_info": {
   "codemirror_mode": {
    "name": "ipython",
    "version": 3
   },
   "file_extension": ".py",
   "mimetype": "text/x-python",
   "name": "python",
   "nbconvert_exporter": "python",
   "pygments_lexer": "ipython3",
   "version": "3.7.4"
  }
 },
 "nbformat": 4,
 "nbformat_minor": 2
}
